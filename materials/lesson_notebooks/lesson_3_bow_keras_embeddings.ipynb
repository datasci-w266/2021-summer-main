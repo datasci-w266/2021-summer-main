{
 "cells": [
  {
   "cell_type": "markdown",
   "metadata": {},
   "source": [
    "## Side Notes for Lesson 3\n",
    "\n",
    "### 1. Simple word embeddings with nltk and gensim\n",
    "\n",
    "Following: https://github.com/nltk/nltk/blob/develop/nltk/test/gensim.doctest"
   ]
  },
  {
   "cell_type": "code",
   "execution_count": 1,
   "metadata": {},
   "outputs": [],
   "source": [
    "import nltk\n",
    "from nltk.corpus import brown\n",
    "from nltk.data import find\n",
    "\n",
    "import gensim\n",
    "\n",
    "import numpy as np"
   ]
  },
  {
   "cell_type": "markdown",
   "metadata": {},
   "source": [
    "Define a couple of helper functions for cosine similarities: one deriving similarity between two words in the context of a model, the other for two vectors directly:"
   ]
  },
  {
   "cell_type": "code",
   "execution_count": 2,
   "metadata": {},
   "outputs": [],
   "source": [
    "def cossim_words(vec_model, a, b):\n",
    "    \"\"\"\n",
    "    arguments: word a, word b\n",
    "    return: cosine similarity between assoociated model vectors with a and b\n",
    "    \"\"\"\n",
    "    \n",
    "    vec_a = vec_model[a]\n",
    "    vec_b = vec_model[b]\n",
    "    \n",
    "    return np.dot(vec_a, vec_b)/np.sqrt(np.dot(vec_a, vec_a))/np.sqrt(np.dot(vec_b, vec_b))\n",
    "\n",
    "def cossim_vecs(vec_a, vec_b):\n",
    "    \"\"\"\n",
    "    arguments: word a, word b\n",
    "    return: cosine similarity between associated model vectors with a and b\n",
    "    \"\"\"\n",
    "    \n",
    "    return np.dot(vec_a, vec_b)/np.sqrt(np.dot(vec_a, vec_a))/np.sqrt(np.dot(vec_b, vec_b))"
   ]
  },
  {
   "cell_type": "markdown",
   "metadata": {},
   "source": [
    "Download NLTK's sample word2vec embeddings:"
   ]
  },
  {
   "cell_type": "code",
   "execution_count": 3,
   "metadata": {},
   "outputs": [
    {
     "name": "stderr",
     "output_type": "stream",
     "text": [
      "[nltk_data] Downloading package word2vec_sample to\n",
      "[nltk_data]     /home/mhbutler/nltk_data...\n",
      "[nltk_data]   Package word2vec_sample is already up-to-date!\n"
     ]
    },
    {
     "data": {
      "text/plain": [
       "True"
      ]
     },
     "execution_count": 3,
     "metadata": {},
     "output_type": "execute_result"
    }
   ],
   "source": [
    "nltk.download('word2vec_sample')"
   ]
  },
  {
   "cell_type": "code",
   "execution_count": 4,
   "metadata": {},
   "outputs": [],
   "source": [
    "word2vec_sample = str(find('models/word2vec_sample/pruned.word2vec.txt'))"
   ]
  },
  {
   "cell_type": "markdown",
   "metadata": {},
   "source": [
    "Load the embeddings into a gensim model:"
   ]
  },
  {
   "cell_type": "code",
   "execution_count": 5,
   "metadata": {},
   "outputs": [],
   "source": [
    "model = gensim.models.KeyedVectors.load_word2vec_format(word2vec_sample, binary=False)"
   ]
  },
  {
   "cell_type": "markdown",
   "metadata": {},
   "source": [
    "What is the size of the vocabulary? [Use model.vocab...]"
   ]
  },
  {
   "cell_type": "code",
   "execution_count": 6,
   "metadata": {},
   "outputs": [
    {
     "data": {
      "text/plain": [
       "43981"
      ]
     },
     "execution_count": 6,
     "metadata": {},
     "output_type": "execute_result"
    }
   ],
   "source": [
    "len(model.vocab)"
   ]
  },
  {
   "cell_type": "markdown",
   "metadata": {},
   "source": [
    "Ok, 43981 words in vocab.\n",
    "\n",
    "What is the **embedding**? [model['word']...]"
   ]
  },
  {
   "cell_type": "code",
   "execution_count": 7,
   "metadata": {},
   "outputs": [
    {
     "data": {
      "text/plain": [
       "array([ 3.06035e-02,  8.86877e-02, -1.21269e-02,  7.61965e-02,\n",
       "        5.66269e-02, -4.24702e-02,  4.10129e-02, -4.97567e-02,\n",
       "       -3.64328e-03,  6.32889e-02, -1.42608e-02, -7.91111e-02,\n",
       "        1.74877e-02, -3.83064e-02,  9.26433e-03,  2.95626e-02,\n",
       "        7.70293e-02,  9.49334e-02, -4.28866e-02, -2.95626e-02,\n",
       "        4.45244e-05,  6.82854e-02,  1.73836e-02,  3.14363e-02,\n",
       "        6.53708e-02,  2.89380e-02, -4.39275e-02,  1.78000e-02,\n",
       "        1.82164e-02, -4.70503e-02, -2.85216e-02,  1.79041e-02,\n",
       "        1.06592e-01,  9.07696e-02,  6.78690e-02,  6.16755e-03,\n",
       "       -2.08187e-02,  5.95936e-03,  1.51586e-03,  8.95205e-02,\n",
       "        6.49544e-02, -3.12281e-02,  9.24351e-02, -2.45661e-02,\n",
       "       -1.21269e-02, -1.53538e-03,  6.49544e-02, -1.12421e-02,\n",
       "        9.10819e-03, -6.45380e-02,  4.43439e-02,  1.35738e-01,\n",
       "       -7.91111e-02,  1.57181e-02, -4.72585e-02, -1.35322e-02,\n",
       "       -4.33029e-02, -5.16304e-02,  1.37404e-01, -3.12281e-02,\n",
       "       -6.49544e-02,  1.14087e-01, -6.41217e-02, -5.24632e-02,\n",
       "        4.60094e-02,  2.85216e-02, -9.10819e-03, -4.28866e-02,\n",
       "       -8.74386e-02,  5.01731e-02,  2.62316e-02,  2.89380e-02,\n",
       "        4.55930e-02, -3.28936e-02, -6.49544e-02, -1.80863e-03,\n",
       "       -6.20398e-02,  1.08257e-01,  2.05064e-02,  4.14293e-02,\n",
       "       -3.56521e-03,  4.80912e-02,  2.27965e-02,  7.65088e-03,\n",
       "       -2.40456e-02, -1.40735e-01, -4.16374e-02,  6.07907e-02,\n",
       "       -5.87088e-02,  9.42047e-03,  4.26784e-02, -2.43579e-02,\n",
       "       -6.66199e-02, -2.71945e-03, -3.99719e-02, -1.99860e-02,\n",
       "        3.66409e-02,  1.30742e-01, -4.74667e-02, -8.28585e-02,\n",
       "       -8.86877e-02,  3.45591e-02, -1.79041e-02, -3.53918e-02,\n",
       "       -4.43439e-02,  1.24912e-01,  1.02012e-02, -1.64468e-02,\n",
       "        1.51977e-02, -4.47602e-02, -2.78971e-02,  1.19083e-01,\n",
       "       -4.95486e-02, -6.21959e-03,  1.64052e-01, -3.33099e-02,\n",
       "       -1.24912e-02, -5.78760e-02, -2.30047e-02, -2.34211e-02,\n",
       "       -3.45591e-02, -1.22830e-02,  3.56000e-02,  1.16585e-01,\n",
       "       -2.64398e-02, -2.04023e-02, -4.65819e-03, -4.85076e-02,\n",
       "       -4.68421e-02,  8.61895e-02, -5.49614e-02, -2.85216e-02,\n",
       "       -1.14087e-01,  4.10129e-02,  4.43439e-02, -7.24491e-02,\n",
       "        2.37333e-02,  6.57872e-02,  3.43509e-02,  9.36842e-02,\n",
       "       -9.70152e-02,  4.70503e-02, -3.46111e-03, -2.40456e-02,\n",
       "       -3.85146e-02, -3.31018e-02, -1.54059e-02,  1.54059e-02,\n",
       "        6.74526e-02, -6.66199e-02,  9.65989e-02,  1.21581e-01,\n",
       "       -2.35252e-02,  1.50728e-01, -5.14222e-02,  4.51766e-02,\n",
       "        1.32719e-02, -8.16094e-02, -9.86807e-02, -4.76749e-02,\n",
       "        1.01491e-03,  3.20608e-02, -5.49094e-03,  4.28866e-02,\n",
       "        1.89867e-01, -1.18250e-01,  2.85216e-02, -3.45591e-02,\n",
       "        2.72725e-02,  7.91111e-03, -4.74667e-02,  4.16374e-02,\n",
       "        8.78550e-02, -5.57942e-02,  1.02012e-02,  4.72585e-02,\n",
       "        3.43509e-02, -6.49544e-02,  2.06886e-03,  7.85907e-03,\n",
       "       -3.91392e-02, -1.02844e-01,  3.58082e-02, -4.28866e-02,\n",
       "       -6.57872e-02,  1.17626e-02, -6.99509e-02, -4.33029e-02,\n",
       "       -2.58933e-03,  5.69262e-04, -1.08257e-01,  1.34073e-01,\n",
       "        5.62105e-02, -5.62105e-02,  9.26433e-03, -6.66199e-02,\n",
       "       -6.24562e-02, -2.18597e-02, -5.14222e-02, -9.20187e-02,\n",
       "        1.32199e-02,  5.57942e-02,  4.14293e-02,  2.42018e-03,\n",
       "        9.42047e-03,  5.41287e-02, -5.30877e-03,  2.62316e-02,\n",
       "       -9.52456e-03,  1.06592e-01, -3.06035e-02,  6.74526e-02,\n",
       "       -3.10199e-02,  8.43158e-03,  3.77339e-03, -3.87228e-02,\n",
       "        1.54891e-01, -3.85146e-02,  1.03053e-02, -5.95936e-03,\n",
       "       -2.17556e-02,  1.02532e-02,  2.51126e-03, -4.35111e-02,\n",
       "       -3.77339e-03,  1.30117e-02, -3.33099e-02, -5.45450e-02,\n",
       "        1.64468e-02,  1.22310e-02, -9.74316e-02, -5.33480e-03,\n",
       "        6.57872e-02,  3.89310e-02,  4.49684e-02, -2.74807e-02,\n",
       "       -5.49614e-02, -4.35111e-02, -9.21228e-03, -1.40526e-02,\n",
       "        3.18526e-02,  1.61345e-02,  3.16445e-02, -5.28275e-03,\n",
       "       -1.99860e-02,  2.08187e-03,  4.41357e-02, -3.70573e-02,\n",
       "       -9.65989e-02, -1.08257e-01,  1.53018e-02,  1.89867e-01,\n",
       "        2.37333e-02,  6.78690e-02,  1.15752e-01, -4.62176e-02,\n",
       "        2.66480e-02, -2.38374e-02, -1.06592e-01, -6.62035e-02,\n",
       "       -2.91462e-02, -5.95415e-02, -6.78690e-02, -7.65088e-03,\n",
       "        9.05614e-03,  3.14363e-02,  5.57942e-02, -3.43509e-02,\n",
       "        1.27515e-02,  6.63597e-03, -7.07836e-02,  6.41217e-02,\n",
       "       -2.88860e-03,  4.31988e-03,  4.89240e-02, -6.32889e-02,\n",
       "       -1.95696e-02, -5.95415e-02, -7.41146e-02, -1.82164e-02,\n",
       "       -2.47743e-02,  2.22760e-02, -4.74667e-02,  3.60164e-02,\n",
       "       -1.08778e-02,  5.99579e-02, -7.74456e-02,  7.33860e-03,\n",
       "       -5.87088e-02, -6.29766e-03, -4.89240e-03,  2.74807e-02,\n",
       "       -1.23247e-01, -2.05064e-02, -8.49404e-02, -3.03953e-02,\n",
       "        2.74807e-02, -7.16164e-02, -8.90000e-03, -6.07907e-02],\n",
       "      dtype=float32)"
      ]
     },
     "execution_count": 7,
     "metadata": {},
     "output_type": "execute_result"
    }
   ],
   "source": [
    "model['great']"
   ]
  },
  {
   "cell_type": "markdown",
   "metadata": {},
   "source": [
    "Dimension as expected?"
   ]
  },
  {
   "cell_type": "code",
   "execution_count": 8,
   "metadata": {},
   "outputs": [
    {
     "data": {
      "text/plain": [
       "(300,)"
      ]
     },
     "execution_count": 8,
     "metadata": {},
     "output_type": "execute_result"
    }
   ],
   "source": [
    "model['great'].shape"
   ]
  },
  {
   "cell_type": "markdown",
   "metadata": {},
   "source": [
    "Let's play with cosine similarities:"
   ]
  },
  {
   "cell_type": "code",
   "execution_count": 9,
   "metadata": {},
   "outputs": [
    {
     "data": {
      "text/plain": [
       "0.6454657"
      ]
     },
     "execution_count": 9,
     "metadata": {},
     "output_type": "execute_result"
    }
   ],
   "source": [
    "cossim_words(model, 'nice', 'great')"
   ]
  },
  {
   "cell_type": "code",
   "execution_count": 10,
   "metadata": {},
   "outputs": [
    {
     "data": {
      "text/plain": [
       "0.39996934"
      ]
     },
     "execution_count": 10,
     "metadata": {},
     "output_type": "execute_result"
    }
   ],
   "source": [
    "cossim_words(model, 'nice', 'bad')"
   ]
  },
  {
   "cell_type": "markdown",
   "metadata": {},
   "source": [
    "Cool, as expected."
   ]
  },
  {
   "cell_type": "markdown",
   "metadata": {},
   "source": [
    "Now... word vectors are supposed to capture meaningful linguistic relationships. So let's try to 're-construct' the embedding vector for the word 'son' via\n",
    "\n",
    "model['son']  $\\sim$ model['boy'] - model['girl'] + model['daughter']"
   ]
  },
  {
   "cell_type": "code",
   "execution_count": 11,
   "metadata": {},
   "outputs": [],
   "source": [
    "model_son = model['boy'] - model['girl'] + model['daughter']"
   ]
  },
  {
   "cell_type": "markdown",
   "metadata": {},
   "source": [
    "How close is this constructed vector to the actual embedding bector for 'boy'?"
   ]
  },
  {
   "cell_type": "code",
   "execution_count": 12,
   "metadata": {},
   "outputs": [
    {
     "data": {
      "text/plain": [
       "0.9217184"
      ]
     },
     "execution_count": 12,
     "metadata": {},
     "output_type": "execute_result"
    }
   ],
   "source": [
    "cossim_vecs(model['son'], model_son)"
   ]
  },
  {
   "cell_type": "markdown",
   "metadata": {},
   "source": [
    "Close! And it is much closer to the embedding of 'boy' than other words in the family (in a double-sense): "
   ]
  },
  {
   "cell_type": "code",
   "execution_count": 13,
   "metadata": {},
   "outputs": [
    {
     "data": {
      "text/plain": [
       "0.83795315"
      ]
     },
     "execution_count": 13,
     "metadata": {},
     "output_type": "execute_result"
    }
   ],
   "source": [
    "cossim_words(model, 'son', 'brother')"
   ]
  },
  {
   "cell_type": "code",
   "execution_count": 14,
   "metadata": {},
   "outputs": [
    {
     "data": {
      "text/plain": [
       "0.8468295"
      ]
     },
     "execution_count": 14,
     "metadata": {},
     "output_type": "execute_result"
    }
   ],
   "source": [
    "cossim_words(model, 'son', 'daughter')"
   ]
  },
  {
   "cell_type": "markdown",
   "metadata": {},
   "source": [
    "So the approximate relationship model['son']  $\\sim$ model['boy'] - model['girl'] + model['daughter'] seems valid."
   ]
  },
  {
   "cell_type": "markdown",
   "metadata": {},
   "source": [
    "### 2. Simple BOW Classification using Word Embeddings in Keras\n",
    "\n",
    "This section roughly implements the model on slides 41 in a toy setting."
   ]
  },
  {
   "cell_type": "code",
   "execution_count": 15,
   "metadata": {},
   "outputs": [],
   "source": [
    "import tensorflow as tf\n",
    "from tensorflow.keras.layers import Embedding, Input, Dense, Lambda\n",
    "from tensorflow.keras.models import Model\n",
    "import tensorflow.keras.backend as K"
   ]
  },
  {
   "cell_type": "markdown",
   "metadata": {},
   "source": [
    "Ok, now we know the number of words that have an embedding. Let's build the embedding matrix from the model:"
   ]
  },
  {
   "cell_type": "code",
   "execution_count": 16,
   "metadata": {},
   "outputs": [],
   "source": [
    "EMBEDDING_DIM = len(model['university'])      # we know... it's 300\n",
    "\n",
    "# initialize embedding matrix and word-to-id map:\n",
    "embedding_matrix = np.zeros((len(model.vocab.keys()) + 1, EMBEDDING_DIM))       \n",
    "vocab_dict = {}\n",
    "\n",
    "# build the embedding matrix and the word-to-id map:\n",
    "for i, word in enumerate(model.vocab.keys()):\n",
    "    embedding_vector = model[word]\n",
    "    if embedding_vector is not None:\n",
    "        # words not found in embedding index will be all-zeros.\n",
    "        embedding_matrix[i] = embedding_vector\n",
    "        vocab_dict[word] = i\n",
    "\n"
   ]
  },
  {
   "cell_type": "markdown",
   "metadata": {},
   "source": [
    "What's the shape?"
   ]
  },
  {
   "cell_type": "code",
   "execution_count": 17,
   "metadata": {},
   "outputs": [
    {
     "data": {
      "text/plain": [
       "(43982, 300)"
      ]
     },
     "execution_count": 17,
     "metadata": {},
     "output_type": "execute_result"
    }
   ],
   "source": [
    "embedding_matrix.shape"
   ]
  },
  {
   "cell_type": "markdown",
   "metadata": {},
   "source": [
    "Correct? Looks right.\n",
    "\n",
    "Let's build the embedding layer:"
   ]
  },
  {
   "cell_type": "code",
   "execution_count": 18,
   "metadata": {},
   "outputs": [],
   "source": [
    "MAX_SEQUENCE_LENGTH = 5  # Keras' embedding layer expects a specific input length. Padding is often needed here.\n",
    "\n",
    "embedding_layer = Embedding(embedding_matrix.shape[0],\n",
    "                            embedding_matrix.shape[1],\n",
    "                            embeddings_initializer=tf.keras.initializers.Constant(embedding_matrix),\n",
    "                            input_length=MAX_SEQUENCE_LENGTH,\n",
    "                            trainable=False)"
   ]
  },
  {
   "cell_type": "code",
   "execution_count": 19,
   "metadata": {},
   "outputs": [],
   "source": [
    "try:\n",
    "    del tf_model\n",
    "except:\n",
    "    pass"
   ]
  },
  {
   "cell_type": "markdown",
   "metadata": {},
   "source": [
    "Note the 'trainable=False' flag...\n",
    "\n",
    "Now let's build the model, again as a **Sequential Model**: "
   ]
  },
  {
   "cell_type": "code",
   "execution_count": 20,
   "metadata": {},
   "outputs": [],
   "source": [
    "tf_model = tf.keras.Sequential()\n",
    "\n",
    "tf_model.add(embedding_layer)                                        # embedding layer\n",
    "tf_model.add(tf.keras.layers.Lambda(lambda x: K.mean(x, axis=1)))    # average of embedding vectors\n",
    "tf_model.add(Dense(100, activation='relu'))                          # hidden layer\n",
    "tf_model.add(Dense(1, activation='sigmoid'))                         # classification layer"
   ]
  },
  {
   "cell_type": "markdown",
   "metadata": {},
   "source": [
    "**Q: What are the dimensions of the layers?**\n",
    "\n",
    "Next: we build the model, defining input and output:"
   ]
  },
  {
   "cell_type": "markdown",
   "metadata": {},
   "source": [
    "Let's see whether our dimension discussion was correct. Print a model summary:"
   ]
  },
  {
   "cell_type": "code",
   "execution_count": 21,
   "metadata": {},
   "outputs": [
    {
     "name": "stdout",
     "output_type": "stream",
     "text": [
      "Model: \"sequential\"\n",
      "_________________________________________________________________\n",
      "Layer (type)                 Output Shape              Param #   \n",
      "=================================================================\n",
      "embedding (Embedding)        (None, 5, 300)            13194600  \n",
      "_________________________________________________________________\n",
      "lambda (Lambda)              (None, 300)               0         \n",
      "_________________________________________________________________\n",
      "dense (Dense)                (None, 100)               30100     \n",
      "_________________________________________________________________\n",
      "dense_1 (Dense)              (None, 1)                 101       \n",
      "=================================================================\n",
      "Total params: 13,224,801\n",
      "Trainable params: 30,201\n",
      "Non-trainable params: 13,194,600\n",
      "_________________________________________________________________\n"
     ]
    }
   ],
   "source": [
    "tf_model.summary()"
   ]
  },
  {
   "cell_type": "markdown",
   "metadata": {},
   "source": [
    "Like last week... let's compile the model. I.e, define optimizer, loss function, etc."
   ]
  },
  {
   "cell_type": "code",
   "execution_count": 22,
   "metadata": {},
   "outputs": [],
   "source": [
    "tf_model.compile(optimizer='adam', loss='BinaryCrossentropy')"
   ]
  },
  {
   "cell_type": "markdown",
   "metadata": {},
   "source": [
    "Almost there... let's create some fake training and test data."
   ]
  },
  {
   "cell_type": "code",
   "execution_count": 23,
   "metadata": {},
   "outputs": [],
   "source": [
    "train_sentences = ['this is really absolutely great', 'this is really absolutely terrible']\n",
    "train_labels = [[1], [0]]\n",
    "\n",
    "test_sentences = ['never seen anything this stupid', 'never seen anything this fantastic']\n",
    "test_labels = [[0], [1]]"
   ]
  },
  {
   "cell_type": "markdown",
   "metadata": {},
   "source": [
    "... and then do some formatting gymnastics:"
   ]
  },
  {
   "cell_type": "code",
   "execution_count": 24,
   "metadata": {},
   "outputs": [],
   "source": [
    "def sents_to_ids(sentences):\n",
    "    \"\"\"\n",
    "    converting a list of strings to a list of lists of word ids\n",
    "    \"\"\"\n",
    "    text_ids = []\n",
    "    for sentence in sentences:\n",
    "        example = []\n",
    "        for word in sentence.split(' '):\n",
    "            example.append(vocab_dict[word])\n",
    "        text_ids.append(example)\n",
    "\n",
    "    return  text_ids   \n",
    "\n",
    "\n",
    "train_input = np.array(sents_to_ids(train_sentences))\n",
    "train_labels = np.array(train_labels)\n",
    "\n",
    "test_input = np.array(sents_to_ids(test_sentences))\n",
    "test_labels = np.array(test_labels)"
   ]
  },
  {
   "cell_type": "markdown",
   "metadata": {},
   "source": [
    "So the model input are word ids in the vocab:"
   ]
  },
  {
   "cell_type": "code",
   "execution_count": 25,
   "metadata": {},
   "outputs": [
    {
     "data": {
      "text/plain": [
       "array([[35029, 16908, 34554,  7427, 35058],\n",
       "       [35029, 16908, 34554,  7427, 37254]])"
      ]
     },
     "execution_count": 25,
     "metadata": {},
     "output_type": "execute_result"
    }
   ],
   "source": [
    "train_input"
   ]
  },
  {
   "cell_type": "markdown",
   "metadata": {},
   "source": [
    "Next: let's get the start predictions. Should be random-ish. Are they?"
   ]
  },
  {
   "cell_type": "code",
   "execution_count": 26,
   "metadata": {},
   "outputs": [
    {
     "name": "stdout",
     "output_type": "stream",
     "text": [
      "[[0.49760967]\n",
      " [0.49496353]]\n",
      "[[0.5114079]\n",
      " [0.5123441]]\n"
     ]
    }
   ],
   "source": [
    "print(tf_model.predict(train_input))\n",
    "print(tf_model.predict(test_input))"
   ]
  },
  {
   "cell_type": "markdown",
   "metadata": {},
   "source": [
    "Yup, looks quite random.\n",
    "\n",
    "Finally... let's train!"
   ]
  },
  {
   "cell_type": "code",
   "execution_count": 27,
   "metadata": {},
   "outputs": [
    {
     "name": "stdout",
     "output_type": "stream",
     "text": [
      "1/1 [==============================] - 0s 121ms/step - loss: 0.6905 - val_loss: 0.6904\n",
      "1/1 [==============================] - 0s 37ms/step - loss: 0.0991 - val_loss: 0.2329\n"
     ]
    },
    {
     "data": {
      "text/plain": [
       "<tensorflow.python.keras.callbacks.History at 0x7f319431c070>"
      ]
     },
     "execution_count": 27,
     "metadata": {},
     "output_type": "execute_result"
    }
   ],
   "source": [
    "tf_model.fit(train_input, train_labels, validation_data=(test_input, test_labels), epochs=1)\n",
    "tf_model.fit(train_input, train_labels, validation_data=(test_input, test_labels), epochs=150, verbose=0)\n",
    "tf_model.fit(train_input, train_labels, validation_data=(test_input, test_labels), epochs=1)"
   ]
  },
  {
   "cell_type": "markdown",
   "metadata": {},
   "source": [
    "Look's good!\n",
    "\n",
    "What are train & test predictions now?"
   ]
  },
  {
   "cell_type": "code",
   "execution_count": 28,
   "metadata": {},
   "outputs": [
    {
     "data": {
      "text/plain": [
       "array([[0.1635555],\n",
       "       [0.7503134]], dtype=float32)"
      ]
     },
     "execution_count": 28,
     "metadata": {},
     "output_type": "execute_result"
    }
   ],
   "source": [
    "tf_model.predict(test_input)"
   ]
  },
  {
   "cell_type": "markdown",
   "metadata": {},
   "source": [
    "Yey! But we obviously cheated here with the choice of sentences. Nevertheless, the idea should be clear."
   ]
  },
  {
   "cell_type": "markdown",
   "metadata": {},
   "source": [
    "**Questions for the class for joint live in-class exercises**:\n",
    "\n",
    "1) Can you relate the value for the validation loss to the prediction for the test set \n",
    "\n",
    "2) What do you think happens if you change the 'trainable' flag in the embedding layer from 'False' to 'True'?\n",
    "\n",
    "3) Let's look into the model and inspect some weights. (Use tf_model.layers. We can get weights of individual layers through  tf_model.layers[<layer_num>].weights):\n",
    "   - Related to Q2, depending on the 'trainable' flag, did the embedding matrix change?\n",
    "   \n",
    "   \n",
    "LET'S TRY IT!!"
   ]
  },
  {
   "cell_type": "code",
   "execution_count": null,
   "metadata": {},
   "outputs": [],
   "source": []
  }
 ],
 "metadata": {
  "kernelspec": {
   "display_name": "Python 3",
   "language": "python",
   "name": "python3"
  },
  "language_info": {
   "codemirror_mode": {
    "name": "ipython",
    "version": 3
   },
   "file_extension": ".py",
   "mimetype": "text/x-python",
   "name": "python",
   "nbconvert_exporter": "python",
   "pygments_lexer": "ipython3",
   "version": "3.8.3"
  }
 },
 "nbformat": 4,
 "nbformat_minor": 2
}
