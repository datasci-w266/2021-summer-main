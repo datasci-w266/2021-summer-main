{
 "cells": [
  {
   "cell_type": "markdown",
   "metadata": {
    "id": "atmStwSAJF3H"
   },
   "source": [
    "[![Open In Colab](https://colab.research.google.com/assets/colab-badge.svg)](https://colab.research.google.com/github/datasci-w266/2021-summer-main/blob/master/materials/walkthrough_notebooks/bert_as_black_box/Colab_with_GPU.ipynb)\n",
    "\n",
    "## Configuring Colab to use a GPU (or TPU)\n",
    "\n",
    "Colab starts out just using a CPU.  If you want to access a GPU or TPU you need to configure the notebook for that.  To do so select\n",
    "\n",
    "*Edit->Notebook Settings* to get to the selection of GPU or TPU.\n",
    "\n",
    "To actually run the notebook you need to connect to a runtime.  First, make sure you've selected a GPU if you want to use one.  To run the notebook somewhere in the Google cloud you need to connect.  In the upper right is a button that says Reconnect.  Click that button and then from the drop down select:\n",
    "\n",
    "*Connect to Hosted Runtime*\n",
    "\n",
    "If your process isn't using the GPU it's alloted, you'll get a reminder from Google.\n",
    "\n",
    "Use *Manage Sessions* in the Reconnect drop down menu to terminate your active session when you're done using it.\n",
    "\n",
    "Depending on what you're doing, you'll want to use either a GPU or a TPU.  For example, if you're fine-tuning a large pretrained transformer model using TensorFlow then you might benefit from a TPU if you can access one. (They aren't always available.)  If you are training a large neural net (without TensorFlow) then you will almost certainly train much faster using a GPU rather than just the CPU.\n",
    "\n",
    "\n",
    "This [older paper](https://arxiv.org/abs/1907.10701) discusses some of the pluses of CPU versus a GPU versus a TPU.  \n",
    "\n",
    "Here's the [official Google explanation](https://cloud.google.com/tpu/docs/tpus#when_to_use_tpus) on when to use a TPU.  "
   ]
  },
  {
   "cell_type": "code",
   "execution_count": null,
   "metadata": {
    "id": "yH-dvnJtIvvQ"
   },
   "outputs": [],
   "source": []
  },
  {
   "cell_type": "markdown",
   "metadata": {
    "id": "BUcnLWrjJROc"
   },
   "source": [
    "## Mounting your Google Drive in Colab\n",
    "\n",
    "Sometimes you want to hold on to some interim results when you're running a Colab notebook.  Since it is running in the cloud how can you save outputs to use later.  You can save to your Google Drive.  To save items from Colab notebook to your Google drive you need to do the following:"
   ]
  },
  {
   "cell_type": "code",
   "execution_count": 1,
   "metadata": {
    "colab": {
     "base_uri": "https://localhost:8080/"
    },
    "id": "O3mzNJGaJekj",
    "outputId": "9f807f73-a687-4099-84aa-0d30250cadaf"
   },
   "outputs": [
    {
     "name": "stdout",
     "output_type": "stream",
     "text": [
      "Mounted at /content/drive\n"
     ]
    }
   ],
   "source": [
    "from google.colab import drive\n",
    "drive.mount('/content/drive')"
   ]
  },
  {
   "cell_type": "code",
   "execution_count": 2,
   "metadata": {
    "colab": {
     "base_uri": "https://localhost:8080/"
    },
    "id": "whOHSWgFLRlC",
    "outputId": "19aa64e0-6eb8-41a6-92ec-993b150ff623"
   },
   "outputs": [
    {
     "name": "stdout",
     "output_type": "stream",
     "text": [
      "Hello Google Drive!"
     ]
    }
   ],
   "source": [
    "with open('/content/drive/My Drive/foo.txt', 'w') as f:\n",
    "  f.write('Hello Google Drive!')\n",
    "!cat /content/drive/My\\ Drive/foo.txt"
   ]
  },
  {
   "cell_type": "code",
   "execution_count": 3,
   "metadata": {
    "colab": {
     "base_uri": "https://localhost:8080/"
    },
    "id": "YSZOAurkLtbP",
    "outputId": "d148fc18-5e37-474c-ba2c-d36e177d9078"
   },
   "outputs": [
    {
     "name": "stdout",
     "output_type": "stream",
     "text": [
      "All changes made in this colab session should now be visible in Drive.\n"
     ]
    }
   ],
   "source": [
    "drive.flush_and_unmount()\n",
    "print('All changes made in this colab session should now be visible in Drive.')"
   ]
  },
  {
   "cell_type": "markdown",
   "metadata": {
    "id": "nynFpzWpMG9g"
   },
   "source": [
    "See [this Colab notebook from Google](https://colab.research.google.com/notebooks/io.ipynb#scrollTo=eikfzi8ZT_rW) for more info on connecting to colab."
   ]
  },
  {
   "cell_type": "code",
   "execution_count": null,
   "metadata": {},
   "outputs": [],
   "source": []
  }
 ],
 "metadata": {
  "colab": {
   "collapsed_sections": [],
   "name": "Colab_with_GPU.ipynb",
   "provenance": []
  },
  "kernelspec": {
   "display_name": "Python 3",
   "language": "python",
   "name": "python3"
  },
  "language_info": {
   "codemirror_mode": {
    "name": "ipython",
    "version": 3
   },
   "file_extension": ".py",
   "mimetype": "text/x-python",
   "name": "python",
   "nbconvert_exporter": "python",
   "pygments_lexer": "ipython3",
   "version": "3.8.5"
  }
 },
 "nbformat": 4,
 "nbformat_minor": 1
}
