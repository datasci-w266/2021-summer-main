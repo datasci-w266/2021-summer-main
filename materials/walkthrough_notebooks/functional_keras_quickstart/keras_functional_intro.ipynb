{
 "cells": [
  {
   "cell_type": "markdown",
   "metadata": {},
   "source": [
    "# Learning the Keras functional API \n",
    "\n",
    "<a id = 'top'></a>\n",
    "\n",
    "  * A. [Intro to Functional API](#introToFunctionalKeras) \n",
    "  * B. [A word about word embeddings](#wordAboutEmbeddings)\n",
    "  * C. [Description of our dataset](#datasetDescription) \n",
    "  * D. [Let's Build our functional model](#buildModel)\n",
    "  * E. [Let's Train and Evaluate our model](#trainModel)\n",
    "  * F. [Considerations for further exploration](#furtherExploration)"
   ]
  },
  {
   "cell_type": "markdown",
   "metadata": {},
   "source": [
    "<a id = 'introToFunctionalKeras'></a>\n",
    "## A. Intro to Functional API\n",
    "The Keras functional syntax for models is only slightly different from the sequential syntax.  It is an intuitive way to build up model graphs.  In return it offers much greater flexibility, allowing multiple connections from arbitrary layers to other layers.  \n",
    "\n",
    "It is referred to as \"functional\" since you use layers as functions called on input nodes to create output nodes.  A good place to start is the [Keras functional documentation](https://keras.io/guides/functional_api/)\n",
    "\n",
    "Many of the more advanced deep-learning networks you will learn about require layer connections which are not strictly sequential; therefore we will mostly use the functional syntax moving forward.\n",
    "\n",
    "This notebook gives you a sense of how to use the functional syntax to create a network, even though our example model will end up being one where layers are consecutively connected.\n",
    "\n",
    "[Go to Top](#top)"
   ]
  },
  {
   "cell_type": "code",
   "execution_count": 1,
   "metadata": {},
   "outputs": [
    {
     "name": "stderr",
     "output_type": "stream",
     "text": [
      "/Users/drewplant/.pyenv/versions/3.8.3/envs/summer2021/lib/python3.8/site-packages/gensim/similarities/__init__.py:15: UserWarning: The gensim.similarities.levenshtein submodule is disabled, because the optional Levenshtein package <https://pypi.org/project/python-Levenshtein/> is unavailable. Install Levenhstein (e.g. `pip install python-Levenshtein`) to suppress this warning.\n",
      "  warnings.warn(msg)\n"
     ]
    }
   ],
   "source": [
    "import nltk\n",
    "from nltk.corpus import brown\n",
    "from nltk.data import find\n",
    "\n",
    "import gensim\n",
    "\n",
    "import numpy as np"
   ]
  },
  {
   "cell_type": "markdown",
   "metadata": {},
   "source": [
    "<a id = 'wordAboutEmbeddings'></a>\n",
    "## B. A word about word embeddings\n",
    "\n",
    "This example will use pre-trained word embeddings from [nltk / gensim](https://github.com/nltk/nltk/blob/develop/nltk/test/gensim.doctest) \n",
    "\n",
    "You will have more chance to work with embedding vectors in a later homework.  If you haven't been exposed to word embeddings (like \"word2vec\") think of embeddings as a way to represent word meaning in geometric space, allowing us to do things like compare word similarities using vector operations like dot products.  For now, we'll use the word2vec pre-trained model to create an embedding layer for our classifier model.\n",
    "\n",
    "[Go to Top](#top)"
   ]
  },
  {
   "cell_type": "code",
   "execution_count": 4,
   "metadata": {},
   "outputs": [
    {
     "name": "stderr",
     "output_type": "stream",
     "text": [
      "[nltk_data] Downloading package word2vec_sample to\n",
      "[nltk_data]     /Users/drewplant/nltk_data...\n",
      "[nltk_data]   Package word2vec_sample is already up-to-date!\n"
     ]
    },
    {
     "name": "stdout",
     "output_type": "stream",
     "text": [
      "The length of gensim embedding vocabulary : 43981\n",
      "Length d of embedding vectors : 300\n",
      "The shape of our embedding matrix is (43982, 300)\n"
     ]
    }
   ],
   "source": [
    "# Download NLTK's sample word2vec embeddings\n",
    "\n",
    "nltk.download('word2vec_sample')\n",
    "\n",
    "word2vec_sample = str(find('models/word2vec_sample/pruned.word2vec.txt'))\n",
    "\n",
    "embmod = gensim.models.KeyedVectors.load_word2vec_format(word2vec_sample, binary=False)\n",
    "print('The length of gensim embedding vocabulary : {}'.format(len(embmod)))\n",
    "EMBEDDING_DIM = len(embmod['university'])\n",
    "print('Length d of embedding vectors : {}'.format(EMBEDDING_DIM))\n",
    "\n",
    "# initialize embedding matrix and word-to-id map:\n",
    "embedding_matrix = np.zeros((len(embmod) + 1, EMBEDDING_DIM))       \n",
    "vocab_dict = {}\n",
    "\n",
    "# build the embedding matrix and the word-to-id map:\n",
    "for i, word in enumerate(embmod.key_to_index.keys()):\n",
    "    embedding_vector = embmod[word]\n",
    "    if embedding_vector is not None:\n",
    "        # words not found in embedding index will be all-zeros.\n",
    "        embedding_matrix[i] = embedding_vector\n",
    "        vocab_dict[word] = i\n",
    "\n",
    "print('The shape of our embedding matrix is {}'.format(embedding_matrix.shape))"
   ]
  },
  {
   "cell_type": "markdown",
   "metadata": {},
   "source": [
    "<a id = 'datasetDescription'></a>\n",
    "## C. Description of our dataset\n",
    "\n",
    "We will create a classifier model on the [large movie review dataset from Stanford AI Lab](https://ai.stanford.edu/~amaas/data/sentiment/). \n",
    "\n",
    "This dataset was used in the paper:  \n",
    "[Learning Word Vectors for Sentiment Analysis by Andrew L. Maas, Raymond E. Daly, Peter T. Pham, Dan Huang, Andrew Y. Ng, Christopher Potts from the Jun 2011 issue of ACL.](https://www.aclweb.org/anthology/P11-1015.pdf)  \n",
    "\n",
    "The dataset training samples are split between:\n",
    "  * \"negative\" movie reviews, with ratings in the range (1,2,3,4) and \n",
    "  * \"positive reviews in the range of (7,8,9,10).\n",
    " \n",
    "We will re-group the ratings into 2 \"negative\" groups and 2 \"positive\" groups, to make our classification task a bit easier.\n",
    "\n",
    "[Go to Top](#top)"
   ]
  },
  {
   "cell_type": "code",
   "execution_count": 35,
   "metadata": {},
   "outputs": [
    {
     "name": "stdout",
     "output_type": "stream",
     "text": [
      "Our unique class labels are: [0 1 2 3]\n"
     ]
    }
   ],
   "source": [
    "input_length = 100\n",
    "import os\n",
    "import re\n",
    "pos_directory = \"./aclImdb/train/pos/\"\n",
    "neg_directory = \"./aclImdb/train/neg/\"\n",
    "\n",
    "# The original labels are negative in [1,2,3,4] and 'positive in [7,8,9,10]'\n",
    "# To simplify our classification let's reduce the number of classes by remapping ratings:\n",
    "#     Map labels to new labels\n",
    "#      1, 2  map to 0\n",
    "#      3, 4 map to 1\n",
    "#      7, 8  map to 2\n",
    "#      9, 10 map to 3\n",
    "maplabels = {\"1\" : 0, \"2\" : 0, \n",
    "             \"3\" : 1, \"4\" : 1,\n",
    "             \"7\" : 2, \"8\" : 2,\n",
    "             \"9\" : 3, \"10\" : 3}\n",
    "\n",
    "# Create pos and neg training samples by tokenizing the first 100 words from each review\n",
    "pos_samples = []\n",
    "pos_labels = []\n",
    "\n",
    "pat = re.compile('\\d+_(\\d+).txt')\n",
    "for file in os.listdir(pos_directory):\n",
    "    with open(pos_directory + file, 'r') as fh:\n",
    "        review = fh.readline().split()\n",
    "        if len(review) < input_length:\n",
    "            whole = int(input_length / len(review) )\n",
    "            leftover = len(review) % input_length\n",
    "            review = review * whole + review[:leftover]\n",
    "        tokens = [vocab_dict.get(word, 43981) for word in review[:input_length]] # only take the first input_length words\n",
    "        pos_samples.append(tokens)\n",
    "        label = pat.sub(r'\\1', file) # Extract label from filename\n",
    "        pos_labels.append(maplabels[label])\n",
    "        \n",
    "neg_samples = []\n",
    "neg_labels = []\n",
    "for file in os.listdir(neg_directory):\n",
    "    with open(neg_directory + file, 'r') as fh:\n",
    "        review = fh.readline().split()\n",
    "        if len(review) < input_length:\n",
    "            whole = int(input_length / len(review) )\n",
    "            leftover = len(review) % input_length\n",
    "            review = review * whole + review[:leftover]\n",
    "        tokens = [vocab_dict.get(word, 43981) for word in review[:input_length]]\n",
    "        neg_samples.append(tokens)\n",
    "        label = pat.sub(r'\\1', file) # Extract label from filename\n",
    "        neg_labels.append(maplabels[label])\n",
    "        \n",
    "# Create x samples and labels\n",
    "from sklearn.model_selection import train_test_split\n",
    "\n",
    "xsamples = pos_samples + neg_samples # combine lists\n",
    "# labels = [1] * len(pos_samples) + [0] * len(neg_samples)\n",
    "labels = pos_labels + neg_labels\n",
    "\n",
    "# Repackage as numpy arrays\n",
    "xsamples = np.array(xsamples)\n",
    "labels = np.array(labels).reshape([-1,1]) # Labels must have at least one column\n",
    "\n",
    "# Create training, eval split\n",
    "train_input, test_input, train_labels, test_labels = train_test_split(xsamples, labels, test_size = 0.2, \n",
    "                                                         random_state = 41,\n",
    "                                                         shuffle = True)\n",
    "\n",
    "# Investigate the unique class \"levels\"\n",
    "print('Our unique class labels are: {}'.format(np.unique(labels)))\n"
   ]
  },
  {
   "cell_type": "code",
   "execution_count": 36,
   "metadata": {},
   "outputs": [
    {
     "name": "stdout",
     "output_type": "stream",
     "text": [
      "Number of training samples = 20000\n",
      "class 0 has 5910 samples (29.55%)\n",
      "class 1 has 4084 samples (20.42%)\n",
      "class 2 has 4398 samples (21.99%)\n",
      "class 3 has 5608 samples (28.04%)\n",
      "\n",
      "Number of training samples = 5000\n",
      "class 0 has 1474 samples (29.48%)\n",
      "class 1 has 1032 samples (20.64%)\n",
      "class 2 has 1107 samples (22.14%)\n",
      "class 3 has 1387 samples (27.74%)\n"
     ]
    }
   ],
   "source": [
    "# Let's look for possible class imbalance\n",
    "ltrain = len(train_labels)\n",
    "print('Number of training samples = {}'.format(ltrain))\n",
    "for i in range(4):\n",
    "    nclass = len(np.where(train_labels.reshape([-1]) == i)[0])\n",
    "    print('class ' + str(i) + ' has {} samples ({:.2f}%)'.format(nclass, 100 * float(nclass / ltrain )))\n",
    "\n",
    "print()\n",
    "ltest = len(test_labels)\n",
    "print('Number of training samples = {}'.format(ltest))\n",
    "for i in range(4):\n",
    "    nclass = len(np.where(test_labels.reshape([-1]) == i)[0])\n",
    "    print('class ' + str(i) + ' has {} samples ({:.2f}%)'.format(nclass, 100 * float(nclass / ltest )))"
   ]
  },
  {
   "cell_type": "markdown",
   "metadata": {},
   "source": [
    "<a id = 'buildModel'></a>\n",
    "## D. Let's build our functional model\n",
    "Building up a graph involves using layers as functions and calling those functions on input tensors to create output tensors, which then can be used to feed other layers.\n",
    "\n",
    "For example, you can create an input and output connection using a dense layer by doing the following:\n",
    "\n",
    "  * x = Dense(50, activation='relu')(x)\n",
    "\n",
    "or by declaring the layer separately and calling that layer as a function with input, x:\n",
    "\n",
    "  * dlayer = Dense(50, activation='relu')  \n",
    "  * x = dlayer(x)\n",
    "\n",
    "In the second representation, you can see that layer instances resemble functions called on graph nodes."
   ]
  },
  {
   "cell_type": "code",
   "execution_count": 7,
   "metadata": {},
   "outputs": [],
   "source": [
    "import tensorflow as tf\n",
    "from tensorflow.keras.layers import Embedding, Input, Dense, Lambda\n",
    "from tensorflow.keras.models import Model\n",
    "import tensorflow.keras.backend as K\n",
    "\n",
    "#  Package our word2vec embedding model as a fixed pre-trained embedding.\n",
    "#  Note we set the argument \"trainable\" to False as we don't want to modify our pre-trained\n",
    "#  ...embedding values during model training.\n",
    "\n",
    "embedding_layer = Embedding(embedding_matrix.shape[0],\n",
    "                            embedding_matrix.shape[1],\n",
    "                            embeddings_initializer=tf.keras.initializers.Constant(embedding_matrix),\n",
    "                            # input_length=input_length,\n",
    "                            trainable=False)\n",
    "\n",
    "# Note that \"trainable\" is set to False, since we want our classifier model to leave embedding vectors alone during training."
   ]
  },
  {
   "cell_type": "markdown",
   "metadata": {},
   "source": [
    "Now that we've created our first embedding layer, let's build the model adding other layers using the **Functional API**: "
   ]
  },
  {
   "cell_type": "code",
   "execution_count": 8,
   "metadata": {},
   "outputs": [],
   "source": [
    "# Choose a word length to truncate each movie review\n",
    "input_length = 100\n",
    "\n",
    "# Define an input using our input fixed number of words per review sample\n",
    "input_x = Input(shape = (input_length,), name=\"input_words\")\n",
    "\n",
    "# Apply embeddings to each word input\n",
    "x = embedding_layer(input_x) \n",
    "\n",
    "# Use Keras lambda function layer to take the mean of the 100 word vectors\n",
    "x = tf.keras.layers.Lambda(lambda x: K.mean(x, axis=1))(x)    # average of embedding vectors\n",
    "\n",
    "# Continue building the network graph                                \n",
    "x = Dense(50, activation='relu')(x)   # hidden layer\n",
    "x = Dense(20, activation='relu')(x)   # hidden layer\n",
    "\n",
    "# Our final output classifier layer.  It has 4 outputs (one for each class)\n",
    "# Because this is a multi-class output we'll use softmax as an activation.\n",
    "# We want the predictor outputs to always sum to 1 to represent probability.\n",
    "yhat = Dense(4, activation='softmax')(x)   # classification layer\n",
    "\n",
    "# Define the model\n",
    "model = Model(inputs=input_x, outputs=yhat, name=\"keras_func_model\")\n",
    "\n",
    "# Compile the model\n",
    "model.compile(optimizer='adam', \n",
    "              loss='sparse_categorical_crossentropy', \n",
    "              metrics = ['sparse_categorical_accuracy'])"
   ]
  },
  {
   "cell_type": "markdown",
   "metadata": {},
   "source": [
    "**Review the output layers, output dimensions, number of weights**"
   ]
  },
  {
   "cell_type": "markdown",
   "metadata": {},
   "source": [
    "Let's see whether our dimension discussion was correct. Print a model summary:"
   ]
  },
  {
   "cell_type": "code",
   "execution_count": 9,
   "metadata": {},
   "outputs": [
    {
     "name": "stdout",
     "output_type": "stream",
     "text": [
      "Model: \"keras_func_model\"\n",
      "_________________________________________________________________\n",
      "Layer (type)                 Output Shape              Param #   \n",
      "=================================================================\n",
      "input_words (InputLayer)     [(None, 100)]             0         \n",
      "_________________________________________________________________\n",
      "embedding (Embedding)        (None, 100, 300)          13194600  \n",
      "_________________________________________________________________\n",
      "lambda (Lambda)              (None, 300)               0         \n",
      "_________________________________________________________________\n",
      "dense (Dense)                (None, 50)                15050     \n",
      "_________________________________________________________________\n",
      "dense_1 (Dense)              (None, 20)                1020      \n",
      "_________________________________________________________________\n",
      "dense_2 (Dense)              (None, 4)                 84        \n",
      "=================================================================\n",
      "Total params: 13,210,754\n",
      "Trainable params: 16,154\n",
      "Non-trainable params: 13,194,600\n",
      "_________________________________________________________________\n"
     ]
    }
   ],
   "source": [
    "model.summary()"
   ]
  },
  {
   "cell_type": "markdown",
   "metadata": {},
   "source": [
    "<a id = 'trainModel'></a>\n",
    "## E. Let's Train and Evaluate our model\n",
    "\n",
    "[Return to Top](#top)"
   ]
  },
  {
   "cell_type": "code",
   "execution_count": 10,
   "metadata": {},
   "outputs": [
    {
     "name": "stdout",
     "output_type": "stream",
     "text": [
      "Epoch 1/100\n",
      "40/40 [==============================] - 1s 21ms/step - loss: 1.3758 - sparse_categorical_accuracy: 0.3056 - val_loss: 1.3698 - val_sparse_categorical_accuracy: 0.3853\n",
      "Epoch 2/100\n",
      "40/40 [==============================] - 1s 17ms/step - loss: 1.3626 - sparse_categorical_accuracy: 0.3704 - val_loss: 1.3567 - val_sparse_categorical_accuracy: 0.3832\n",
      "Epoch 3/100\n",
      "40/40 [==============================] - 1s 16ms/step - loss: 1.3422 - sparse_categorical_accuracy: 0.4026 - val_loss: 1.3301 - val_sparse_categorical_accuracy: 0.4027\n",
      "Epoch 4/100\n",
      "40/40 [==============================] - 1s 17ms/step - loss: 1.3045 - sparse_categorical_accuracy: 0.4191 - val_loss: 1.2837 - val_sparse_categorical_accuracy: 0.4165\n",
      "Epoch 5/100\n",
      "40/40 [==============================] - 1s 17ms/step - loss: 1.2544 - sparse_categorical_accuracy: 0.4381 - val_loss: 1.2370 - val_sparse_categorical_accuracy: 0.4347\n",
      "Epoch 6/100\n",
      "40/40 [==============================] - 1s 16ms/step - loss: 1.2089 - sparse_categorical_accuracy: 0.4532 - val_loss: 1.1974 - val_sparse_categorical_accuracy: 0.4540\n",
      "Epoch 7/100\n",
      "40/40 [==============================] - 1s 17ms/step - loss: 1.1768 - sparse_categorical_accuracy: 0.4663 - val_loss: 1.1816 - val_sparse_categorical_accuracy: 0.4622\n",
      "Epoch 8/100\n",
      "40/40 [==============================] - 1s 17ms/step - loss: 1.1573 - sparse_categorical_accuracy: 0.4761 - val_loss: 1.1614 - val_sparse_categorical_accuracy: 0.4765\n",
      "Epoch 9/100\n",
      "40/40 [==============================] - 1s 18ms/step - loss: 1.1429 - sparse_categorical_accuracy: 0.4853 - val_loss: 1.1500 - val_sparse_categorical_accuracy: 0.4820\n",
      "Epoch 10/100\n",
      "40/40 [==============================] - 1s 17ms/step - loss: 1.1343 - sparse_categorical_accuracy: 0.4859 - val_loss: 1.1586 - val_sparse_categorical_accuracy: 0.4805\n",
      "Epoch 11/100\n",
      "40/40 [==============================] - 1s 17ms/step - loss: 1.1261 - sparse_categorical_accuracy: 0.4958 - val_loss: 1.1392 - val_sparse_categorical_accuracy: 0.4873\n",
      "Epoch 12/100\n",
      "40/40 [==============================] - 1s 17ms/step - loss: 1.1159 - sparse_categorical_accuracy: 0.5002 - val_loss: 1.1306 - val_sparse_categorical_accuracy: 0.4947\n",
      "Epoch 13/100\n",
      "40/40 [==============================] - 1s 17ms/step - loss: 1.1092 - sparse_categorical_accuracy: 0.5011 - val_loss: 1.1250 - val_sparse_categorical_accuracy: 0.5042\n",
      "Epoch 14/100\n",
      "40/40 [==============================] - 1s 17ms/step - loss: 1.1043 - sparse_categorical_accuracy: 0.5051 - val_loss: 1.1209 - val_sparse_categorical_accuracy: 0.5030\n",
      "Epoch 15/100\n",
      "40/40 [==============================] - 1s 17ms/step - loss: 1.0999 - sparse_categorical_accuracy: 0.5102 - val_loss: 1.1178 - val_sparse_categorical_accuracy: 0.5013\n",
      "Epoch 16/100\n",
      "40/40 [==============================] - 1s 17ms/step - loss: 1.0955 - sparse_categorical_accuracy: 0.5095 - val_loss: 1.1137 - val_sparse_categorical_accuracy: 0.5042\n",
      "Epoch 17/100\n",
      "40/40 [==============================] - 1s 17ms/step - loss: 1.0905 - sparse_categorical_accuracy: 0.5103 - val_loss: 1.1207 - val_sparse_categorical_accuracy: 0.4930\n",
      "Epoch 18/100\n",
      "40/40 [==============================] - 1s 17ms/step - loss: 1.0905 - sparse_categorical_accuracy: 0.5128 - val_loss: 1.1125 - val_sparse_categorical_accuracy: 0.4958\n",
      "Epoch 19/100\n",
      "40/40 [==============================] - 1s 17ms/step - loss: 1.0841 - sparse_categorical_accuracy: 0.5140 - val_loss: 1.1101 - val_sparse_categorical_accuracy: 0.5000\n",
      "Epoch 20/100\n",
      "40/40 [==============================] - 1s 16ms/step - loss: 1.0809 - sparse_categorical_accuracy: 0.5166 - val_loss: 1.1107 - val_sparse_categorical_accuracy: 0.5085\n",
      "Epoch 21/100\n",
      "40/40 [==============================] - 1s 17ms/step - loss: 1.0783 - sparse_categorical_accuracy: 0.5184 - val_loss: 1.1045 - val_sparse_categorical_accuracy: 0.5040\n",
      "Epoch 22/100\n",
      "40/40 [==============================] - 1s 17ms/step - loss: 1.0766 - sparse_categorical_accuracy: 0.5213 - val_loss: 1.1057 - val_sparse_categorical_accuracy: 0.5067\n",
      "Epoch 23/100\n",
      "40/40 [==============================] - 1s 17ms/step - loss: 1.0772 - sparse_categorical_accuracy: 0.5183 - val_loss: 1.1053 - val_sparse_categorical_accuracy: 0.5040\n",
      "Epoch 24/100\n",
      "40/40 [==============================] - 1s 17ms/step - loss: 1.0737 - sparse_categorical_accuracy: 0.5209 - val_loss: 1.1039 - val_sparse_categorical_accuracy: 0.5070\n",
      "Epoch 25/100\n",
      "40/40 [==============================] - 1s 17ms/step - loss: 1.0721 - sparse_categorical_accuracy: 0.5206 - val_loss: 1.1029 - val_sparse_categorical_accuracy: 0.5092\n",
      "Epoch 26/100\n",
      "40/40 [==============================] - 1s 16ms/step - loss: 1.0687 - sparse_categorical_accuracy: 0.5231 - val_loss: 1.0994 - val_sparse_categorical_accuracy: 0.5117\n",
      "Epoch 27/100\n",
      "40/40 [==============================] - 1s 18ms/step - loss: 1.0713 - sparse_categorical_accuracy: 0.5198 - val_loss: 1.1061 - val_sparse_categorical_accuracy: 0.5023\n",
      "Epoch 28/100\n",
      "40/40 [==============================] - 1s 19ms/step - loss: 1.0700 - sparse_categorical_accuracy: 0.5215 - val_loss: 1.1026 - val_sparse_categorical_accuracy: 0.5013\n",
      "Epoch 29/100\n",
      "40/40 [==============================] - 1s 17ms/step - loss: 1.0657 - sparse_categorical_accuracy: 0.5261 - val_loss: 1.1029 - val_sparse_categorical_accuracy: 0.5017\n",
      "Epoch 30/100\n",
      "40/40 [==============================] - 1s 16ms/step - loss: 1.0651 - sparse_categorical_accuracy: 0.5256 - val_loss: 1.0998 - val_sparse_categorical_accuracy: 0.5042\n",
      "Epoch 31/100\n",
      "40/40 [==============================] - 1s 16ms/step - loss: 1.0629 - sparse_categorical_accuracy: 0.5274 - val_loss: 1.0954 - val_sparse_categorical_accuracy: 0.5095\n",
      "Epoch 32/100\n",
      "40/40 [==============================] - 1s 16ms/step - loss: 1.0612 - sparse_categorical_accuracy: 0.5283 - val_loss: 1.0958 - val_sparse_categorical_accuracy: 0.5077\n",
      "Epoch 33/100\n",
      "40/40 [==============================] - 1s 17ms/step - loss: 1.0603 - sparse_categorical_accuracy: 0.5286 - val_loss: 1.0942 - val_sparse_categorical_accuracy: 0.5085\n",
      "Epoch 34/100\n",
      "40/40 [==============================] - 1s 17ms/step - loss: 1.0595 - sparse_categorical_accuracy: 0.5289 - val_loss: 1.0952 - val_sparse_categorical_accuracy: 0.5080\n",
      "Epoch 35/100\n",
      "40/40 [==============================] - 1s 17ms/step - loss: 1.0603 - sparse_categorical_accuracy: 0.5299 - val_loss: 1.0937 - val_sparse_categorical_accuracy: 0.5082\n",
      "Epoch 36/100\n",
      "40/40 [==============================] - 1s 16ms/step - loss: 1.0577 - sparse_categorical_accuracy: 0.5324 - val_loss: 1.0953 - val_sparse_categorical_accuracy: 0.5130\n",
      "Epoch 37/100\n",
      "40/40 [==============================] - 1s 16ms/step - loss: 1.0570 - sparse_categorical_accuracy: 0.5290 - val_loss: 1.0930 - val_sparse_categorical_accuracy: 0.5085\n",
      "Epoch 38/100\n",
      "40/40 [==============================] - 1s 16ms/step - loss: 1.0579 - sparse_categorical_accuracy: 0.5312 - val_loss: 1.0920 - val_sparse_categorical_accuracy: 0.5113\n",
      "Epoch 39/100\n",
      "40/40 [==============================] - 1s 16ms/step - loss: 1.0553 - sparse_categorical_accuracy: 0.5321 - val_loss: 1.0929 - val_sparse_categorical_accuracy: 0.5092\n",
      "Epoch 40/100\n",
      "40/40 [==============================] - 1s 16ms/step - loss: 1.0545 - sparse_categorical_accuracy: 0.5328 - val_loss: 1.0931 - val_sparse_categorical_accuracy: 0.5148\n",
      "Epoch 41/100\n",
      "40/40 [==============================] - 1s 16ms/step - loss: 1.0533 - sparse_categorical_accuracy: 0.5309 - val_loss: 1.0936 - val_sparse_categorical_accuracy: 0.5077\n",
      "Epoch 42/100\n",
      "40/40 [==============================] - 1s 16ms/step - loss: 1.0545 - sparse_categorical_accuracy: 0.5302 - val_loss: 1.0947 - val_sparse_categorical_accuracy: 0.5080\n",
      "Epoch 43/100\n",
      "40/40 [==============================] - 1s 15ms/step - loss: 1.0544 - sparse_categorical_accuracy: 0.5341 - val_loss: 1.0904 - val_sparse_categorical_accuracy: 0.5123\n",
      "Epoch 44/100\n",
      "40/40 [==============================] - 1s 16ms/step - loss: 1.0524 - sparse_categorical_accuracy: 0.5346 - val_loss: 1.0904 - val_sparse_categorical_accuracy: 0.5125\n",
      "Epoch 45/100\n",
      "40/40 [==============================] - 1s 16ms/step - loss: 1.0531 - sparse_categorical_accuracy: 0.5324 - val_loss: 1.0925 - val_sparse_categorical_accuracy: 0.5100\n",
      "Epoch 46/100\n",
      "40/40 [==============================] - 1s 16ms/step - loss: 1.0504 - sparse_categorical_accuracy: 0.5366 - val_loss: 1.0908 - val_sparse_categorical_accuracy: 0.5138\n",
      "Epoch 47/100\n",
      "40/40 [==============================] - 1s 16ms/step - loss: 1.0493 - sparse_categorical_accuracy: 0.5351 - val_loss: 1.0968 - val_sparse_categorical_accuracy: 0.5090\n",
      "Epoch 48/100\n",
      "40/40 [==============================] - 1s 16ms/step - loss: 1.0512 - sparse_categorical_accuracy: 0.5358 - val_loss: 1.0964 - val_sparse_categorical_accuracy: 0.5098\n",
      "Epoch 49/100\n",
      "40/40 [==============================] - 1s 16ms/step - loss: 1.0484 - sparse_categorical_accuracy: 0.5353 - val_loss: 1.0894 - val_sparse_categorical_accuracy: 0.5135\n",
      "Epoch 50/100\n",
      "40/40 [==============================] - 1s 15ms/step - loss: 1.0491 - sparse_categorical_accuracy: 0.5363 - val_loss: 1.0910 - val_sparse_categorical_accuracy: 0.5132\n",
      "Epoch 51/100\n",
      "40/40 [==============================] - 1s 16ms/step - loss: 1.0472 - sparse_categorical_accuracy: 0.5351 - val_loss: 1.0893 - val_sparse_categorical_accuracy: 0.5145\n",
      "Epoch 52/100\n",
      "40/40 [==============================] - 1s 17ms/step - loss: 1.0473 - sparse_categorical_accuracy: 0.5386 - val_loss: 1.0933 - val_sparse_categorical_accuracy: 0.5123\n",
      "Epoch 53/100\n",
      "40/40 [==============================] - 1s 16ms/step - loss: 1.0464 - sparse_categorical_accuracy: 0.5364 - val_loss: 1.0948 - val_sparse_categorical_accuracy: 0.5082\n",
      "Epoch 54/100\n",
      "40/40 [==============================] - 1s 16ms/step - loss: 1.0461 - sparse_categorical_accuracy: 0.5377 - val_loss: 1.0886 - val_sparse_categorical_accuracy: 0.5135\n",
      "Epoch 55/100\n",
      "40/40 [==============================] - 1s 16ms/step - loss: 1.0470 - sparse_categorical_accuracy: 0.5347 - val_loss: 1.0899 - val_sparse_categorical_accuracy: 0.5117\n",
      "Epoch 56/100\n",
      "40/40 [==============================] - 1s 16ms/step - loss: 1.0443 - sparse_categorical_accuracy: 0.5374 - val_loss: 1.0891 - val_sparse_categorical_accuracy: 0.5170\n",
      "Epoch 57/100\n",
      "40/40 [==============================] - 1s 16ms/step - loss: 1.0452 - sparse_categorical_accuracy: 0.5344 - val_loss: 1.0910 - val_sparse_categorical_accuracy: 0.5150\n",
      "Epoch 58/100\n",
      "40/40 [==============================] - 1s 16ms/step - loss: 1.0430 - sparse_categorical_accuracy: 0.5386 - val_loss: 1.0932 - val_sparse_categorical_accuracy: 0.5092\n",
      "Epoch 59/100\n",
      "40/40 [==============================] - 1s 16ms/step - loss: 1.0451 - sparse_categorical_accuracy: 0.5382 - val_loss: 1.0895 - val_sparse_categorical_accuracy: 0.5148\n",
      "Epoch 60/100\n",
      "40/40 [==============================] - 1s 15ms/step - loss: 1.0459 - sparse_categorical_accuracy: 0.5386 - val_loss: 1.0889 - val_sparse_categorical_accuracy: 0.5167\n",
      "Epoch 61/100\n",
      "40/40 [==============================] - 1s 15ms/step - loss: 1.0440 - sparse_categorical_accuracy: 0.5376 - val_loss: 1.0959 - val_sparse_categorical_accuracy: 0.5105\n",
      "Epoch 62/100\n",
      "40/40 [==============================] - 1s 15ms/step - loss: 1.0466 - sparse_categorical_accuracy: 0.5361 - val_loss: 1.0887 - val_sparse_categorical_accuracy: 0.5160\n",
      "Epoch 63/100\n",
      "40/40 [==============================] - 1s 15ms/step - loss: 1.0427 - sparse_categorical_accuracy: 0.5384 - val_loss: 1.0883 - val_sparse_categorical_accuracy: 0.5160\n",
      "Epoch 64/100\n",
      "40/40 [==============================] - 1s 16ms/step - loss: 1.0415 - sparse_categorical_accuracy: 0.5378 - val_loss: 1.0888 - val_sparse_categorical_accuracy: 0.5170\n",
      "Epoch 65/100\n",
      "40/40 [==============================] - 1s 16ms/step - loss: 1.0437 - sparse_categorical_accuracy: 0.5366 - val_loss: 1.0885 - val_sparse_categorical_accuracy: 0.5155\n",
      "Epoch 66/100\n",
      "40/40 [==============================] - 1s 16ms/step - loss: 1.0412 - sparse_categorical_accuracy: 0.5406 - val_loss: 1.0889 - val_sparse_categorical_accuracy: 0.5132\n",
      "Epoch 67/100\n",
      "40/40 [==============================] - 1s 17ms/step - loss: 1.0426 - sparse_categorical_accuracy: 0.5383 - val_loss: 1.0903 - val_sparse_categorical_accuracy: 0.5153\n",
      "Epoch 68/100\n",
      "40/40 [==============================] - 1s 15ms/step - loss: 1.0450 - sparse_categorical_accuracy: 0.5386 - val_loss: 1.0940 - val_sparse_categorical_accuracy: 0.5123\n",
      "Epoch 69/100\n",
      "40/40 [==============================] - 1s 15ms/step - loss: 1.0399 - sparse_categorical_accuracy: 0.5404 - val_loss: 1.0906 - val_sparse_categorical_accuracy: 0.5125\n",
      "Epoch 70/100\n",
      "40/40 [==============================] - 1s 16ms/step - loss: 1.0406 - sparse_categorical_accuracy: 0.5409 - val_loss: 1.0894 - val_sparse_categorical_accuracy: 0.5165\n",
      "Epoch 71/100\n",
      "40/40 [==============================] - 1s 17ms/step - loss: 1.0389 - sparse_categorical_accuracy: 0.5411 - val_loss: 1.0879 - val_sparse_categorical_accuracy: 0.5178\n",
      "Epoch 72/100\n",
      "40/40 [==============================] - 1s 16ms/step - loss: 1.0396 - sparse_categorical_accuracy: 0.5401 - val_loss: 1.0903 - val_sparse_categorical_accuracy: 0.5142\n",
      "Epoch 73/100\n",
      "40/40 [==============================] - 1s 15ms/step - loss: 1.0388 - sparse_categorical_accuracy: 0.5400 - val_loss: 1.0869 - val_sparse_categorical_accuracy: 0.5180\n",
      "Epoch 74/100\n",
      "40/40 [==============================] - 1s 15ms/step - loss: 1.0380 - sparse_categorical_accuracy: 0.5402 - val_loss: 1.0880 - val_sparse_categorical_accuracy: 0.5163\n",
      "Epoch 75/100\n",
      "40/40 [==============================] - 1s 15ms/step - loss: 1.0362 - sparse_categorical_accuracy: 0.5421 - val_loss: 1.0875 - val_sparse_categorical_accuracy: 0.5192\n",
      "Epoch 76/100\n",
      "40/40 [==============================] - 1s 15ms/step - loss: 1.0364 - sparse_categorical_accuracy: 0.5413 - val_loss: 1.0935 - val_sparse_categorical_accuracy: 0.5128\n",
      "Epoch 77/100\n",
      "40/40 [==============================] - 1s 16ms/step - loss: 1.0360 - sparse_categorical_accuracy: 0.5427 - val_loss: 1.0870 - val_sparse_categorical_accuracy: 0.5178\n",
      "Epoch 78/100\n",
      "40/40 [==============================] - 1s 15ms/step - loss: 1.0365 - sparse_categorical_accuracy: 0.5433 - val_loss: 1.0869 - val_sparse_categorical_accuracy: 0.5195\n",
      "Epoch 79/100\n",
      "40/40 [==============================] - 1s 16ms/step - loss: 1.0359 - sparse_categorical_accuracy: 0.5427 - val_loss: 1.0867 - val_sparse_categorical_accuracy: 0.5190\n",
      "Epoch 80/100\n",
      "40/40 [==============================] - 1s 16ms/step - loss: 1.0360 - sparse_categorical_accuracy: 0.5403 - val_loss: 1.0861 - val_sparse_categorical_accuracy: 0.5195\n",
      "Epoch 81/100\n",
      "40/40 [==============================] - 1s 16ms/step - loss: 1.0352 - sparse_categorical_accuracy: 0.5416 - val_loss: 1.0864 - val_sparse_categorical_accuracy: 0.5205\n",
      "Epoch 82/100\n",
      "40/40 [==============================] - 1s 16ms/step - loss: 1.0344 - sparse_categorical_accuracy: 0.5418 - val_loss: 1.0902 - val_sparse_categorical_accuracy: 0.5150\n",
      "Epoch 83/100\n",
      "40/40 [==============================] - 1s 15ms/step - loss: 1.0346 - sparse_categorical_accuracy: 0.5426 - val_loss: 1.0896 - val_sparse_categorical_accuracy: 0.5163\n",
      "Epoch 84/100\n",
      "40/40 [==============================] - 1s 16ms/step - loss: 1.0342 - sparse_categorical_accuracy: 0.5441 - val_loss: 1.0861 - val_sparse_categorical_accuracy: 0.5197\n",
      "Epoch 85/100\n",
      "40/40 [==============================] - 1s 15ms/step - loss: 1.0336 - sparse_categorical_accuracy: 0.5436 - val_loss: 1.0876 - val_sparse_categorical_accuracy: 0.5200\n",
      "Epoch 86/100\n",
      "40/40 [==============================] - 1s 15ms/step - loss: 1.0319 - sparse_categorical_accuracy: 0.5447 - val_loss: 1.0874 - val_sparse_categorical_accuracy: 0.5180\n",
      "Epoch 87/100\n",
      "40/40 [==============================] - 1s 15ms/step - loss: 1.0338 - sparse_categorical_accuracy: 0.5442 - val_loss: 1.0870 - val_sparse_categorical_accuracy: 0.5157\n",
      "Epoch 88/100\n",
      "40/40 [==============================] - 1s 17ms/step - loss: 1.0323 - sparse_categorical_accuracy: 0.5447 - val_loss: 1.0870 - val_sparse_categorical_accuracy: 0.5213\n",
      "Epoch 89/100\n",
      "40/40 [==============================] - 1s 17ms/step - loss: 1.0339 - sparse_categorical_accuracy: 0.5437 - val_loss: 1.0893 - val_sparse_categorical_accuracy: 0.5197\n",
      "Epoch 90/100\n",
      "40/40 [==============================] - 1s 16ms/step - loss: 1.0361 - sparse_categorical_accuracy: 0.5431 - val_loss: 1.0863 - val_sparse_categorical_accuracy: 0.5175\n",
      "Epoch 91/100\n",
      "40/40 [==============================] - 1s 16ms/step - loss: 1.0344 - sparse_categorical_accuracy: 0.5429 - val_loss: 1.0967 - val_sparse_categorical_accuracy: 0.5095\n",
      "Epoch 92/100\n",
      "40/40 [==============================] - 1s 16ms/step - loss: 1.0337 - sparse_categorical_accuracy: 0.5406 - val_loss: 1.0877 - val_sparse_categorical_accuracy: 0.5203\n",
      "Epoch 93/100\n",
      "40/40 [==============================] - 1s 16ms/step - loss: 1.0305 - sparse_categorical_accuracy: 0.5436 - val_loss: 1.0857 - val_sparse_categorical_accuracy: 0.5203\n",
      "Epoch 94/100\n",
      "40/40 [==============================] - 1s 15ms/step - loss: 1.0304 - sparse_categorical_accuracy: 0.5457 - val_loss: 1.0863 - val_sparse_categorical_accuracy: 0.5207\n",
      "Epoch 95/100\n",
      "40/40 [==============================] - 1s 15ms/step - loss: 1.0311 - sparse_categorical_accuracy: 0.5460 - val_loss: 1.0873 - val_sparse_categorical_accuracy: 0.5173\n",
      "Epoch 96/100\n",
      "40/40 [==============================] - 1s 15ms/step - loss: 1.0310 - sparse_categorical_accuracy: 0.5455 - val_loss: 1.0880 - val_sparse_categorical_accuracy: 0.5180\n",
      "Epoch 97/100\n",
      "40/40 [==============================] - 1s 16ms/step - loss: 1.0304 - sparse_categorical_accuracy: 0.5451 - val_loss: 1.0945 - val_sparse_categorical_accuracy: 0.5125\n",
      "Epoch 98/100\n",
      "40/40 [==============================] - 1s 17ms/step - loss: 1.0325 - sparse_categorical_accuracy: 0.5480 - val_loss: 1.0858 - val_sparse_categorical_accuracy: 0.5210\n",
      "Epoch 99/100\n",
      "40/40 [==============================] - 1s 17ms/step - loss: 1.0285 - sparse_categorical_accuracy: 0.5467 - val_loss: 1.0895 - val_sparse_categorical_accuracy: 0.5213\n",
      "Epoch 100/100\n",
      "40/40 [==============================] - 1s 17ms/step - loss: 1.0298 - sparse_categorical_accuracy: 0.5458 - val_loss: 1.0951 - val_sparse_categorical_accuracy: 0.5107\n"
     ]
    }
   ],
   "source": [
    "# Train the model\n",
    "history = model.fit(train_input, train_labels, batch_size = 400, validation_split=0.2, epochs = 100)"
   ]
  },
  {
   "cell_type": "code",
   "execution_count": 11,
   "metadata": {},
   "outputs": [
    {
     "name": "stdout",
     "output_type": "stream",
     "text": [
      "dict_keys(['loss', 'sparse_categorical_accuracy', 'val_loss', 'val_sparse_categorical_accuracy'])\n"
     ]
    },
    {
     "data": {
      "image/png": "[encoded data removed]",
      "text/plain": [
       "<Figure size 432x288 with 1 Axes>"
      ]
     },
     "metadata": {
      "needs_background": "light"
     },
     "output_type": "display_data"
    },
    {
     "data": {
      "image/png": "[encoded data removed]",
      "text/plain": [
       "<Figure size 432x288 with 1 Axes>"
      ]
     },
     "metadata": {
      "needs_background": "light"
     },
     "output_type": "display_data"
    }
   ],
   "source": [
    "# Plot accuracy and loss for training / validation samples\n",
    "import matplotlib.pyplot as plt\n",
    "print(history.history.keys())\n",
    "# summarize history for accuracy\n",
    "plt.plot(history.history['sparse_categorical_accuracy'])\n",
    "plt.plot(history.history['val_sparse_categorical_accuracy'])\n",
    "plt.title('model accuracy')\n",
    "plt.ylabel('sparse_categorical_accuracy')\n",
    "plt.xlabel('epoch')\n",
    "plt.legend(['train', 'validation'], loc='upper left')\n",
    "plt.show()\n",
    "# summarize history for loss\n",
    "plt.plot(history.history['loss'])\n",
    "plt.plot(history.history['val_loss'])\n",
    "plt.title('model loss')\n",
    "plt.ylabel('loss')\n",
    "plt.xlabel('epoch')\n",
    "plt.legend(['train', 'test'], loc='upper left')\n",
    "plt.show()"
   ]
  },
  {
   "cell_type": "markdown",
   "metadata": {},
   "source": [
    "<a id = 'furtherExploration'></a>\n",
    "## F. Some considerations for further exploration are:\n",
    "1. What evidence do you see that the above model might be over-fitting?\n",
    "\n",
    "2. Might BOW have some basic limitations for classification accuracy?  You'll explore this more in a homework on a BOW classifier.\n",
    "\n",
    "3. How might class imbalance impact possible accuracy / bias a model in a particular way to impact accuracy?  How could this be overcome?"
   ]
  },
  {
   "cell_type": "code",
   "execution_count": null,
   "metadata": {},
   "outputs": [],
   "source": []
  }
 ],
 "metadata": {
  "kernelspec": {
   "display_name": "Python 3",
   "language": "python",
   "name": "python3"
  },
  "language_info": {
   "codemirror_mode": {
    "name": "ipython",
    "version": 3
   },
   "file_extension": ".py",
   "mimetype": "text/x-python",
   "name": "python",
   "nbconvert_exporter": "python",
   "pygments_lexer": "ipython3",
   "version": "3.8.3"
  }
 },
 "nbformat": 4,
 "nbformat_minor": 4
}
